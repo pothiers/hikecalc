{
 "cells": [
  {
   "cell_type": "code",
   "execution_count": 1,
   "id": "7ba5bcec-44b8-45f0-b5ad-2e7add656b75",
   "metadata": {},
   "outputs": [],
   "source": [
    "from hikecalc.hike_calc import Hiker"
   ]
  },
  {
   "cell_type": "code",
   "execution_count": 2,
   "id": "fee648b4-60f9-4837-8009-9586461e580e",
   "metadata": {},
   "outputs": [],
   "source": [
    "import hikecalc"
   ]
  },
  {
   "cell_type": "code",
   "execution_count": 3,
   "id": "f7e03c64-72fb-41ad-85a7-17b1d4a462eb",
   "metadata": {},
   "outputs": [
    {
     "name": "stdout",
     "output_type": "stream",
     "text": [
      "Help on package hikecalc:\n",
      "\n",
      "NAME\n",
      "    hikecalc - Calculate hikes given various constraints.\n",
      "\n",
      "PACKAGE CONTENTS\n",
      "    cli\n",
      "    gc_waypoints\n",
      "    geoloc\n",
      "    hike_calc\n",
      "\n",
      "VERSION\n",
      "    0.6.0a1.dev3\n",
      "\n",
      "FILE\n",
      "    /home/pothiers/sandbox/hikecalc/venv/lib/python3.10/site-packages/hikecalc/__init__.py\n",
      "\n",
      "\n"
     ]
    }
   ],
   "source": [
    "help(hikecalc)"
   ]
  },
  {
   "cell_type": "code",
   "execution_count": 4,
   "id": "625f09bb-00c5-4b08-97c9-1f66515f9e1a",
   "metadata": {},
   "outputs": [],
   "source": [
    "from hikecalc.data import available"
   ]
  },
  {
   "cell_type": "code",
   "execution_count": 8,
   "id": "ca4a7a26-25ef-44ce-a887-fa9446263741",
   "metadata": {},
   "outputs": [
    {
     "data": {
      "text/plain": [
       "[PosixPath('/home/pothiers/sandbox/hikecalc/venv/lib/python3.10/site-packages/hikecalc/data/catalina.dat'),\n",
       " PosixPath('/home/pothiers/sandbox/hikecalc/venv/lib/python3.10/site-packages/hikecalc/data/grand-canyon-river.dat'),\n",
       " PosixPath('/home/pothiers/sandbox/hikecalc/venv/lib/python3.10/site-packages/hikecalc/data/grand-canyon.dat'),\n",
       " PosixPath('/home/pothiers/sandbox/hikecalc/venv/lib/python3.10/site-packages/hikecalc/data/tucson-mountains.dat')]"
      ]
     },
     "execution_count": 8,
     "metadata": {},
     "output_type": "execute_result"
    }
   ],
   "source": [
    "files = available.datfiles()\n",
    "files"
   ]
  },
  {
   "cell_type": "code",
   "execution_count": 6,
   "id": "5ffc9c0b-fde5-4eb0-b0b8-e66da569bd3d",
   "metadata": {},
   "outputs": [
    {
     "data": {
      "text/plain": [
       "<hikecalc.hike_calc.Hiker at 0x7f5230662c80>"
      ]
     },
     "execution_count": 6,
     "metadata": {},
     "output_type": "execute_result"
    }
   ],
   "source": [
    "h = Hiker()\n",
    "h"
   ]
  },
  {
   "cell_type": "code",
   "execution_count": 15,
   "id": "7a8e3b82-21c6-494d-bb16-6e8c7e05e940",
   "metadata": {},
   "outputs": [
    {
     "data": {
      "text/plain": [
       "<_io.TextIOWrapper name='/home/pothiers/sandbox/hikecalc/venv/lib/python3.10/site-packages/hikecalc/data/catalina.dat' mode='r' encoding='UTF-8'>"
      ]
     },
     "execution_count": 15,
     "metadata": {},
     "output_type": "execute_result"
    }
   ],
   "source": [
    "datafile = open(files[0])\n",
    "datafile"
   ]
  },
  {
   "cell_type": "code",
   "execution_count": 16,
   "id": "584c1498-f1c3-4249-abf6-8907b0c3e72e",
   "metadata": {},
   "outputs": [],
   "source": [
    "h.loadData(datafile, 'foobar', 'path')"
   ]
  },
  {
   "cell_type": "code",
   "execution_count": 18,
   "id": "3d86f79d-13c2-4efc-9128-4b29e39193f0",
   "metadata": {},
   "outputs": [
    {
     "data": {
      "text/plain": [
       "NodeView(('FingerRockTH', 'PontatocJct', 'PontatocRidgeTE', 'PontatocCynTE', 'FingerRockSpring', 'FR1', 'MtKimbleJct', 'PimaSpring', 'PimaCynTH', 'VentanaRidge', 'MaidenPools', 'VentanaTH', 'TheWindow', 'CathedralJct', 'BridalVeilFalls', 'GeronimoMeadow', 'CardiacGap', 'RattlesnakeJct', 'SabinoRoad1', 'SabinoTH', 'Cathedral_route', 'WestForkTE', 'HutchsPool', 'BoxCampTE', 'SabinoCynTS', 'PhonelineTH', 'BearCynTH', 'SevenFalls', 'Bear4720', 'PrisonSaddle', 'EastForkTE', 'BlackettsTS', 'BlackettsTE', 'Connector1Top', 'Connector2Top', 'PhonelineTE', 'SabinoRoadTop', 'MolinoTH', 'PrisonCampTH', 'pcJct', 'SycamoreReservoir', 'shortcutToBear', 'GordonHirabayashiTH', 'BoxCampTH', 'BoxSpringTS', 'ApacheSpring', 'RomeroTH', 'MontrosePools', 'RomeroPools', 'RomeroPass', 'SutherlandBot', 'TrailLinkJct', 'e4800', 'SamaniegoJct', 'e8600', 'WildernessOfRocksJct', 'RomeroLowerJct', 'CSPEquestrianCenter', 'TrailLink', 'e3400', 'CathedralRockTS', 'CathedralSaddle', 'CathedralPeak', 'Connector2Bot', 'MarshallGulchTH', 'MarshallSaddle', 'LemmonLookoutBot', 'LemmonPoolJct', 'LemmonTrail@WildernessOfRocks', 'LemmonPools', 'PalisadesTH', 'MudSpring', 'PalisadesBot', 'PalisadesRangerTH', 'PalRangJct', 'NovioSpring', 'CrystalSprTop', 'ButterflyTH', 'CrystalSprBot', 'SabinoBathroomTop', 'SabinoCynSwim1', 'SabinoCyn@EspereroTr', 'SabinoCyn@RattlesnakeCyn', 'MtLemmonTH', 'LemmonLookoutTop', 'j5', 'Tr6Jct'))"
      ]
     },
     "execution_count": 18,
     "metadata": {},
     "output_type": "execute_result"
    }
   ],
   "source": [
    "h.graph.nodes"
   ]
  },
  {
   "cell_type": "code",
   "execution_count": 20,
   "id": "0cdb00e5-a5a4-4c9d-a51e-a84d1f4b0ccd",
   "metadata": {},
   "outputs": [
    {
     "data": {
      "text/plain": [
       "[]"
      ]
     },
     "execution_count": 20,
     "metadata": {},
     "output_type": "execute_result"
    }
   ],
   "source": [
    "h.trailheads"
   ]
  },
  {
   "cell_type": "code",
   "execution_count": null,
   "id": "644ca03e-0054-42da-8a9a-7c128ac920a2",
   "metadata": {},
   "outputs": [],
   "source": []
  }
 ],
 "metadata": {
  "kernelspec": {
   "display_name": "Python 3 (ipykernel)",
   "language": "python",
   "name": "python3"
  },
  "language_info": {
   "codemirror_mode": {
    "name": "ipython",
    "version": 3
   },
   "file_extension": ".py",
   "mimetype": "text/x-python",
   "name": "python",
   "nbconvert_exporter": "python",
   "pygments_lexer": "ipython3",
   "version": "3.10.12"
  }
 },
 "nbformat": 4,
 "nbformat_minor": 5
}
